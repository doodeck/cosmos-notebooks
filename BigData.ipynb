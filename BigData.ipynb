{
 "cells": [
  {
   "cell_type": "markdown",
   "metadata": {},
   "source": [
    "# Test BigData"
   ]
  },
  {
   "cell_type": "code",
   "execution_count": null,
   "metadata": {
    "inputHidden": false,
    "outputHidden": false
   },
   "outputs": [],
   "source": [
    "# jupyter nbconvert --to script BigData.ipynb\n",
    "\n",
    "import os\n",
    "import time\n",
    "# import azure.cosmos\n",
    "# import azure.cosmos.cosmos_client as cosmos_client\n",
    "from runpy import run_path\n",
    "from azure.cosmos import exceptions, CosmosClient, PartitionKey, documents # https://github.com/Azure-Samples/azure-cosmos-db-python-getting-started/blob/master/cosmos_get_started.py\n",
    "\n",
    "credentials = run_path(\"/home/opc/python/cosmos-notebooks/credentials.py\")\n",
    "\n",
    "endpoint = credentials['HOST']\n",
    "key = credentials['MASTER_KEY']\n",
    "\n",
    "def isnotebook():\n",
    "    try:\n",
    "        shell = get_ipython().__class__.__name__\n",
    "        if shell == 'ZMQInteractiveShell':\n",
    "            return True   # Jupyter notebook or qtconsole\n",
    "        elif shell == 'TerminalInteractiveShell':\n",
    "            return False  # Terminal running IPython\n",
    "        else:\n",
    "            return False  # Other type (?)\n",
    "    except NameError:\n",
    "        return False      # Probably standard Python interpreter"
   ]
  },
  {
   "cell_type": "code",
   "execution_count": null,
   "metadata": {
    "inputHidden": false,
    "outputHidden": false
   },
   "outputs": [],
   "source": [
    "'''\n",
    "# https://github.com/MicrosoftDocs/azure-docs/blob/master/articles/cosmos-db/tutorial-global-distribution-sql-api.md\n",
    "connectionPolicy = documents.ConnectionPolicy()\n",
    "connectionPolicy.PreferredLocations = [ 'North Europe', 'Southeast Asia', 'East US', 'East US 2']\n",
    "{\"code\":\"BadRequest\",\"message\":\"Value '<azure.cosmos.documents.ConnectionPolicy object at 0x7f8eab687b00>' specified for the header 'x-ms-consistency-level' is invalid. \\r\\nActivityId: e1c30f0c-6dac-4885-83a5-b01afb5853e6, Microsoft.Azure.Documents.Common/2.7.0\"}\n",
    "'''\n",
    "# <create_cosmos_client>\n",
    "client = CosmosClient(endpoint, {'masterKey': key} )\n",
    "# </create_cosmos_client>\n",
    "\n",
    "# Create a database\n",
    "# <create_database_if_not_exists>\n",
    "database_name = 'mybigdata'\n",
    "database = client.create_database_if_not_exists(id=database_name)\n",
    "# </create_database_if_not_exists>"
   ]
  },
  {
   "cell_type": "code",
   "execution_count": null,
   "metadata": {
    "inputHidden": false,
    "outputHidden": false
   },
   "outputs": [],
   "source": [
    "# Create a container\n",
    "# Using a good partition key improves the performance of database operations.\n",
    "# <create_container_if_not_exists>\n",
    "container_name = 'myitems'\n",
    "container = database.create_container_if_not_exists(\n",
    "    id=container_name, \n",
    "    partition_key=PartitionKey(path=\"/id\"),\n",
    "    offer_throughput=5000\n",
    ")\n",
    "# </create_container_if_not_exists>"
   ]
  },
  {
   "cell_type": "markdown",
   "metadata": {},
   "source": [
    "## Store random data"
   ]
  },
  {
   "cell_type": "code",
   "execution_count": null,
   "metadata": {
    "inputHidden": false,
    "outputHidden": false
   },
   "outputs": [],
   "source": [
    "import time\n",
    "import uuid\n",
    "\n",
    "progress = 1\n",
    "max_count = 20000000\n",
    "for i in range(max_count):\n",
    "    new_item = { 'id': str(uuid.uuid4()), 'timestamp': time.time(), 'dummy': str(uuid.uuid4()) }\n",
    "    container.create_item(new_item)\n",
    "    if progress % 10 == 0:\n",
    "        print(\"Inserting document: %5d / \\r\"% (progress), end=\"\", flush=True)\n",
    "    progress += 1"
   ]
  },
  {
   "cell_type": "markdown",
   "metadata": {},
   "source": [
    "## Read and process data line by line"
   ]
  },
  {
   "cell_type": "code",
   "execution_count": null,
   "metadata": {
    "inputHidden": false,
    "outputHidden": false
   },
   "outputs": [],
   "source": [
    "\n",
    "# jupyter nbconvert --to script BigData.ipynb\n",
    "# Read a CSV file in Python, libe-by-line, by Jeff Heaton (http://www.jeffheaton.com/tutorials/)\n",
    "import codecs\n",
    "import csv\n",
    "\n",
    "FILENAME = \"/home/cosmosuser/notebooks/census/Rate.csv\" # https://www.kaggle.com/hhs/health-insurance-marketplace#Rate.csv\n",
    "ENCODING = 'utf-8'\n",
    "\n",
    "with codecs.open(FILENAME, \"r\", ENCODING) as fp:\n",
    "    reader = csv.reader(fp)\n",
    "\n",
    "    # read CSV headers\n",
    "    headers = next(reader)\n",
    "    print(headers)\n",
    "\n",
    "    # read rest of file\n",
    "    for row in reader:\n",
    "        # Print each row\n",
    "        print(row)\n",
    "\n",
    "        # Print individual fields of the row\n",
    "        # print(\"{},{},{},{} = {}\".format(row[0],row[1],row[2],row[3],row[4]))"
   ]
  },
  {
   "cell_type": "code",
   "execution_count": null,
   "metadata": {
    "inputHidden": false,
    "outputHidden": false
   },
   "outputs": [],
   "source": [
    "if isnotebook():\n",
    "    client.delete_database(database_name)"
   ]
  }
 ],
 "metadata": {
  "kernelspec": {
   "display_name": "Python 3",
   "language": "python",
   "name": "python3"
  },
  "language_info": {
   "codemirror_mode": {
    "name": "ipython",
    "version": 3
   },
   "file_extension": ".py",
   "mimetype": "text/x-python",
   "name": "python",
   "nbconvert_exporter": "python",
   "pygments_lexer": "ipython3",
   "version": "3.6.8"
  },
  "nteract": {
   "version": "dataExplorer 1.0"
  }
 },
 "nbformat": 4,
 "nbformat_minor": 4
}
